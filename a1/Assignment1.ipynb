{
  "cells": [
    {
      "cell_type": "markdown",
      "metadata": {
        "id": "RKboZnAdgrRM"
      },
      "source": [
        "# [NLP] Assignment 1: Tokenization\n",
        "\n",
        "In this assignment, you need to tokenize the text of the Twitter(X) users posts(tweets). The assignment consists of two tasks. When you finish all the tasks, create a GitHub repository for this assignment (you can use this repo later for the other assignments) and submit this notebook in the repository. Leave `requirements.txt` file if your code requires additional installations. Submit the link to the repository in Moodle.\n",
        "\n",
        "The [data](https://drive.google.com/file/d/15x_wPAflvYQ2Xh38iNQGrqUIWLj5l5Nw/view?usp=share_link) contains 5 files whereby each contains 44 tweets. Each tweet is separated by a newline."
      ]
    },
    {
      "cell_type": "markdown",
      "metadata": {
        "id": "aLDjjAvemUP_"
      },
      "source": [
        "## Task 1. Tokenize some tweets manually (20 points)\n",
        "\n",
        "As a first task you need to tokenize first 15 tweets from `file2` by hand. This will allow you to understand the problem from a linguistic point of view. The guidelines for tweet tokenization are as follows:\n",
        "\n",
        "- Each smiley is a separate token\n",
        "- Each hashtag is an individual token. Each user reference is an individual token\n",
        "- If a word has spaces between them then it is converted to a single token\n",
        "- All punctuations are individual tokens. This includes double-quotes and single quotes also\n",
        "- A URL is a single token\n",
        "\n",
        "Example of output\n",
        "\n",
        "    Input tweet\n",
        "    @xfranman Old age has made N A T O!\n",
        "\n",
        "    Tokenized tweet (separated by comma)\n",
        "    @xfranman , Old , age , has , made , NATO , !"
      ]
    },
    {
      "cell_type": "markdown",
      "metadata": {
        "id": "7KKKwTidnzUw"
      },
      "source": [
        "\n",
        "    1. Input tweet\n",
        "    ...\n",
        "    1. Tokenized tweet\n",
        "    ...\n",
        "\n",
        "    2. Input tweet\n",
        "    ...\n",
        "    2. Tokenized tweet\n",
        "    ..."
      ]
    },
    {
      "cell_type": "markdown",
      "metadata": {},
      "source": [
        "The next cell is in code because Markdown did some crazy formatting, sorry"
      ]
    },
    {
      "cell_type": "code",
      "execution_count": 10,
      "metadata": {},
      "outputs": [],
      "source": [
        "# 1. Input tweet\n",
        "# Camping in Maine for the weekend. Hey Dad, Mama Loves YOU: http://www.mamapalooza.com\n",
        "# 1. Tokenized tweet\n",
        "# Camping , in , Maine , for , the , weekend , . , Hey , Dad , , , Mama , Loves , YOU , : , http://www.mamapalooza.com\n",
        "\n",
        "# 2. Input tweet\n",
        "# Its american tradition bitch\n",
        "# 2. Tokenized tweet\n",
        "# Its , american , tradition , bitch\n",
        "\n",
        "# 3. Input tweet\n",
        "# @ThroughTheVoid They love it! The only pleasure they get in life. I actually do that. I'm sure I hear a tiny squeak... Then louder ones\n",
        "# 3. Tokenized tweet\n",
        "# @ThroughTheVoid , They , love , it , ! , The , only , pleasure , they , get , in , life , . , I , actually , do , that , . , I , 'm , sure , I , hear , a , tiny , squeak , . , . , . , Then , louder , ones\n",
        "\n",
        "# 4. Input tweet\n",
        "# \" RT @latti: @AbsoHilare stop tweeting in church! Lol <--- \"\"I tweet because I'm happy, I tweet because I'm free\"\" LOL!\"\n",
        "# 4. Tokenized tweet\n",
        "# \" , RT , @latti , : , @AbsoHilare , stop , tweeting , in , church , ! , Lol , < , - , - , \" , \" , I , tweet , because , I , 'm , happy , , , I , tweet , because , I , 'm , free , \" , \" , LOL , ! , \"\n",
        "\n",
        "# 5. Input tweet\n",
        "# Samsung Mini S2 portable HDD graced with colors that perfectly match your tacky beach gear: Sammy's done it aga.. http://tinyurl.com/lb5p6m\n",
        "# 5. Tokenized tweet\n",
        "# Samsung , Mini , S2 , portable , HDD , graced , with , colors , that , perfectly , match , your , tacky , beach , gear , : , Sammy , 's , done , it , aga , . , . , http://tinyurl.com/lb5p6m\n",
        "\n",
        "# 6. Input tweet\n",
        "# @dialloc congrats on finding your way over. it may be slow going at first. hang in there. it's kinda cool when u get up to speed.\n",
        "# 6. Tokenized tweet\n",
        "# @dialloc , congrats , on , finding , your , way , over , . , it , may , be , slow , going , at , first , . , hang , in , there , . , it , 's , kinda , cool , when , u , get , up , to , speed , .\n",
        "\n",
        "# 7. Input tweet\n",
        "# iPhone activation delays continue, Apple offers $30 http://twt.gs/l3Ki\n",
        "# 7. Tokenized tweet\n",
        "# iPhone , activation , delays , continue , , , Apple , offers , $30 , http://twt.gs/l3Ki\n",
        "\n",
        "# 8. Input tweet\n",
        "# RT @GoogleAtWork Gmail maximum attachment size now 25MB http://bit.ly/62mjw Nice!!!\n",
        "# 8. Tokenized tweet\n",
        "# RT , @GoogleAtWork , Gmail , maximum , attachment , size , now , 25MB , http://bit.ly/62mjw , Nice , ! , ! , !\n",
        "\n",
        "# 9. Input tweet\n",
        "# RT @acfou The Ads Won Awards for Crispin; But Did Nothing for Client BurgerKing's Sales/Marketshare - Big Surprise - http://ping.fm/vw8TI\n",
        "# 9. Tokenized tweet\n",
        "# RT , @acfou , The , Ads , Won , Awards , for , Crispin , ; , But , Did , Nothing , for , Client , BurgerKing , 's , Sales/Marketshare , - , Big , Surprise , - , http://ping.fm/vw8TI\n",
        "\n",
        "# 10. Input tweet\n",
        "# Hey doll! Great I missed True Blood yday boo lol Rt @FrankBanuat78 @jhillstephens Hello Sunshine how are u today? :-)\n",
        "# 10. Tokenized tweet\n",
        "# Hey , doll , ! , Great , I , missed , True , Blood , yday , boo , lol , Rt , @FrankBanuat78 , @jhillstephens , Hello , Sunshine , how , are , u , today , ? , :-)\n",
        "\n",
        "# 11. Input tweet\n",
        "# Australian artist Pogo made these free songs primarily from sampled audio from Alice In Wonderland. http://www.last.fm/music/Pogo/Wonderland\n",
        "# 11. Tokenized tweet\n",
        "# Australian , artist , Pogo , made , these , free , songs , primarily , from , sampled , audio , from , Alice , In , Wonderland , . , http://www.last.fm/music/Pogo/Wonderland\n",
        "\n",
        "# 12. Input tweet\n",
        "# @mppritchard they wanted to sell all the preorders & then sell all of the ones they had in stock to those that just walked in. Can't do both\n",
        "# 12. Tokenized tweet\n",
        "# @mppritchard , they , wanted , to , sell , all , the , preorders , & , then , sell , all , of , the , ones , they , had , in , stock , to , those , that , just , walked , in , . , Can't , do , both\n",
        "\n",
        "# 13. Input tweet\n",
        "# Incoming: Frightened Rabbit, Sept. 22 (Tucson): If Fat Cat Records is going to send three great bands from Scot.. http://tinyurl.com/nz6xcv\n",
        "# 13. Tokenized tweet\n",
        "# Incoming , : , Frightened , Rabbit , , , Sept , . , 22 , ( , Tucson , ) , : , If , Fat , Cat , Records , is , going , to , send , three , great , bands , from , Scot , . , . , http://tinyurl.com/nz6xcv\n",
        "\n",
        "# 14. Input tweet\n",
        "# Hey @ginoandfran please greet philip! (GinoandFran live > http://ustre.am/2YyQ)\n",
        "# 14. Tokenized tweet\n",
        "# Hey , @ginoandfran , please , greet , philip , ! , ( , GinoandFran , live , > , http://ustre.am/2YyQ , )\n",
        "\n",
        "# 15. Input tweet\n",
        "# Ik weet niet wie er achter de T-Mobile iPhone Twitter zit maar ik vind het niet echt 'corporate' taalgebruik... Best vreemd eigenlijk\n",
        "# 15. Tokenized tweet\n",
        "# Ik , weet , niet , wie , er , achter , de , T-Mobile , iPhone , Twitter , zit , maar , ik , vind , het , niet , echt , ' , corporate , ' , taalgebruik , . , . , . , Best , vreemd , eigenlijk"
      ]
    },
    {
      "cell_type": "markdown",
      "metadata": {
        "id": "-2J2AD2nmUhi"
      },
      "source": [
        "## Task 2. Implement [Byte-Pair Encoding(BPE)](https://arxiv.org/pdf/1508.07909.pdf) Tokenizer (80 points)\n",
        "\n",
        "### Task 2.1. Implementation (60 points)\n",
        "\n",
        "Implement the tokenizer as the BPETokenizer class:\n",
        "* Implement `train` method that learns merges and builds the vocabulary of the specified `vocab_size` (25 points).\n",
        "* Implement `tokenize` method that should tokenize the text according to the learnt merges (25 points).\n",
        "\n",
        "Your code should have docstrings and comments (10 points)."
      ]
    },
    {
      "cell_type": "code",
      "execution_count": 15,
      "metadata": {},
      "outputs": [
        {
          "name": "stdout",
          "output_type": "stream",
          "text": [
            "['t', 'h', 'i', 's', ' ', 'i', 's', ' ', 'a', ' ', 't', 'e', 's', 't']\n"
          ]
        }
      ],
      "source": [
        "from typing import List, Dict, Tuple\n",
        "from collections import defaultdict, Counter\n",
        "import re\n",
        "\n",
        "\n",
        "class BPETokenizer:\n",
        "\n",
        "    def __init__(self, vocab_size: int) -> None:\n",
        "        self.vocab_size = vocab_size\n",
        "        self.vocab = {}\n",
        "        self.merges = []\n",
        "\n",
        "    def train(self, corpus: List[str]) -> None:\n",
        "        \"\"\"\n",
        "        Trains the tokenizer on the provided corpus to learn merges and build the vocabulary.\n",
        "\n",
        "        Parameters:\n",
        "            corpus (List[str]): The text corpus for training the tokenizer.\n",
        "        \"\"\"\n",
        "        # Initialize vocabulary with individual characters\n",
        "        vocab = self._tokenize_to_chars(corpus)\n",
        "        # Count frequency of pairs\n",
        "        pairs = self._count_pairs(vocab)\n",
        "\n",
        "        while len(self.vocab) < self.vocab_size:\n",
        "            if not pairs:\n",
        "                break\n",
        "            best_pair = max(pairs, key=pairs.get)\n",
        "            if pairs[best_pair] < 2:\n",
        "                break\n",
        "            # Merge the best pair\n",
        "            vocab, pairs = self._merge_vocab(best_pair, vocab)\n",
        "            self.vocab[best_pair[0] + best_pair[1]] = pairs[best_pair]\n",
        "            self.merges.append(best_pair)\n",
        "            # Update pair frequencies\n",
        "            pairs = self._count_pairs(vocab)\n",
        "\n",
        "    def tokenize(self, text: str) -> List[str]:\n",
        "        \"\"\"\n",
        "        Tokenizes the text according to the learned merges.\n",
        "\n",
        "        Parameters:\n",
        "            text (str): The text to tokenize.\n",
        "\n",
        "        Returns:\n",
        "            List[str]: The list of tokens.\n",
        "        \"\"\"\n",
        "        # Tokenize the input text to characters\n",
        "        tokens = list(text)\n",
        "        for merge in self.merges:\n",
        "            new_tokens = []\n",
        "            i = 0\n",
        "            while i < len(tokens):\n",
        "                # Attempt to apply the merge\n",
        "                if i < len(tokens) - 1 and (tokens[i], tokens[i + 1]) == merge:\n",
        "                    new_tokens.append(tokens[i] + tokens[i + 1])\n",
        "                    i += 2\n",
        "                else:\n",
        "                    new_tokens.append(tokens[i])\n",
        "                    i += 1\n",
        "            tokens = new_tokens\n",
        "        return tokens\n",
        "\n",
        "    def _tokenize_to_chars(self, corpus: List[str]) -> Dict[str, int]:\n",
        "        \"\"\"\n",
        "        Tokenizes the corpus into characters, appending a special end-of-word symbol.\n",
        "\n",
        "        Parameters:\n",
        "            corpus (List[str]): The text corpus for training.\n",
        "\n",
        "        Returns:\n",
        "            Dict[str, int]: A dictionary of character frequencies.\n",
        "        \"\"\"\n",
        "        vocab = Counter()\n",
        "        for word in corpus:\n",
        "            # Tokenize to characters and add end-of-word symbol\n",
        "            tokens = \" \".join(list(word) + [\"</w>\"])\n",
        "            vocab.update(tokens.split())\n",
        "        return vocab\n",
        "\n",
        "    def _count_pairs(self, vocab: Dict[str, int]) -> Dict[Tuple[str, str], int]:\n",
        "        \"\"\"\n",
        "        Counts the frequency of adjacent token pairs in the vocabulary.\n",
        "\n",
        "        Parameters:\n",
        "            vocab (Dict[str, int]): The vocabulary with token frequencies.\n",
        "\n",
        "        Returns:\n",
        "            Dict[Tuple[str, str], int]: A dictionary of pair frequencies.\n",
        "        \"\"\"\n",
        "        pairs = defaultdict(int)\n",
        "        for token, freq in vocab.items():\n",
        "            symbols = token.split()\n",
        "            for i in range(len(symbols) - 1):\n",
        "                pairs[(symbols[i], symbols[i + 1])] += freq\n",
        "        return pairs\n",
        "\n",
        "    def _merge_vocab(\n",
        "        self, pair: Tuple[str, str], vocab: Dict[str, int]\n",
        "    ) -> Tuple[Dict[str, int], Dict[Tuple[str, str], int]]:\n",
        "        \"\"\"\n",
        "        Merges a pair of tokens in the vocabulary and updates the vocabulary and pairs.\n",
        "\n",
        "        Parameters:\n",
        "            pair (Tuple[str, str]): The pair of tokens to merge.\n",
        "            vocab (Dict[str, int]): The current vocabulary.\n",
        "\n",
        "        Returns:\n",
        "            Tuple[Dict[str, int], Dict[Tuple[str, str], int]]: Updated vocabulary and pairs.\n",
        "        \"\"\"\n",
        "        new_vocab = {}\n",
        "        bigram = re.escape(\" \".join(pair))\n",
        "        p = re.compile(r\"(?<!\\S)\" + bigram + r\"(?!\\S)\")\n",
        "        for word in vocab:\n",
        "            w_out = p.sub(\"\".join(pair), word)\n",
        "            new_vocab[w_out] = vocab[word]\n",
        "        return new_vocab, self._count_pairs(new_vocab)\n",
        "\n",
        "\n",
        "# Example usage:\n",
        "tokenizer = BPETokenizer(vocab_size=50)\n",
        "corpus = [\"this is a test corpus test test test\", \"bpe tokenizer example\"]\n",
        "tokenizer.train(corpus)\n",
        "print(tokenizer.tokenize(\"this is a test\"))"
      ]
    },
    {
      "cell_type": "markdown",
      "metadata": {},
      "source": [
        "### Task 2.2. Analysis on Tweets Dataset (10 points)\n",
        "\n",
        "Train the BPE tokenizer on the tweets dataset. Try to tokenize the tweets with the tokenizer of different `vocab_size`. For example, train the BPE tokenizer with `vocab_size` of [base_vocab_size, 250, 500, 750, 1000]. Plot the dependency of the average length of the tokenized tweet by `vocab_size` to analyze how `vocab_size` affects the length of the tokenized tweet on average. Tell what `vocab_size` is preferrable and why."
      ]
    },
    {
      "cell_type": "code",
      "execution_count": 17,
      "metadata": {},
      "outputs": [
        {
          "name": "stdout",
          "output_type": "stream",
          "text": [
            "220\n"
          ]
        }
      ],
      "source": [
        "tweets = []\n",
        "for i in range(1, 6):\n",
        "    with open(f'data/file{i}', 'r') as file:\n",
        "        for line in file:\n",
        "            tweets.append(line.strip())\n",
        "\n",
        "print(len(tweets))"
      ]
    },
    {
      "cell_type": "code",
      "execution_count": 18,
      "metadata": {},
      "outputs": [
        {
          "data": {
            "image/png": "[encoded data removed]",
            "text/plain": [
              "<Figure size 640x480 with 1 Axes>"
            ]
          },
          "metadata": {},
          "output_type": "display_data"
        }
      ],
      "source": [
        "import matplotlib.pyplot as plt\n",
        "\n",
        "# Assuming `tweets` is a list of tweets loaded from the dataset\n",
        "# tweets = [...]\n",
        "\n",
        "# Vocabulary sizes to test\n",
        "vocab_sizes = [100, 250, 500, 750, 1000]\n",
        "average_lengths = []\n",
        "\n",
        "for size in vocab_sizes:\n",
        "    tokenizer = BPETokenizer(vocab_size=size)\n",
        "    tokenizer.train(tweets)  # Train the tokenizer on the tweets\n",
        "    \n",
        "    tokenized_tweets = [tokenizer.tokenize(tweet) for tweet in tweets]\n",
        "    avg_length = sum(len(tweet) for tweet in tokenized_tweets) / len(tokenized_tweets)\n",
        "    average_lengths.append(avg_length)\n",
        "\n",
        "# Plotting the results\n",
        "plt.plot(vocab_sizes, average_lengths, marker='o')\n",
        "plt.title('Average Tokenized Tweet Length by Vocabulary Size')\n",
        "plt.xlabel('Vocabulary Size')\n",
        "plt.ylabel('Average Tokenized Tweet Length')\n",
        "plt.grid(True)\n",
        "plt.show() \n"
      ]
    },
    {
      "cell_type": "markdown",
      "metadata": {},
      "source": [
        "### Task 2.3. Analysis on Dataset of Different Language (10 points)\n",
        "\n",
        "Find a small dataset of texts in a language other than English. The dataset size should be not greater than several megabytes.\n",
        "\n",
        "Train the BPE tokenizer on the dataset that you found. Try to tokenize the sentences from this dataset with the tokenizer of different `vocab_size`. Plot the dependency of the average length of the tokenized sentence by `vocab_size` to analyze how `vocab_size` affects the length of the tokenized sentence on average.\n",
        "\n",
        "Tell how how the average length of the tokenized sentence differs from the average length of the tokenized tweet. Explain why. "
      ]
    },
    {
      "cell_type": "code",
      "execution_count": null,
      "metadata": {},
      "outputs": [],
      "source": [
        "# Your code here"
      ]
    }
  ],
  "metadata": {
    "colab": {
      "provenance": [],
      "toc_visible": true
    },
    "kernelspec": {
      "display_name": "Python 3",
      "name": "python3"
    },
    "language_info": {
      "codemirror_mode": {
        "name": "ipython",
        "version": 3
      },
      "file_extension": ".py",
      "mimetype": "text/x-python",
      "name": "python",
      "nbconvert_exporter": "python",
      "pygments_lexer": "ipython3",
      "version": "3.9.16"
    }
  },
  "nbformat": 4,
  "nbformat_minor": 0
}
